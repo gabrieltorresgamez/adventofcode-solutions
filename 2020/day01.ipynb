{
 "cells": [
  {
   "cell_type": "markdown",
   "id": "79ef79a3",
   "metadata": {},
   "source": [
    "--- Day 1: Report Repair ---\n",
    "\n",
    "After saving Christmas five years in a row, you've decided to take a vacation at a nice resort on a tropical island. Surely, Christmas will go on without you.\n",
    "\n",
    "The tropical island has its own currency and is entirely cash-only. The gold coins used there have a little picture of a starfish; the locals just call them stars. None of the currency exchanges seem to have heard of them, but somehow, you'll need to find fifty of these coins by the time you arrive so you can pay the deposit on your room.\n",
    "\n",
    "To save your vacation, you need to get all fifty stars by December 25th.\n",
    "\n",
    "Collect stars by solving puzzles. Two puzzles will be made available on each day in the Advent calendar; the second puzzle is unlocked when you complete the first. Each puzzle grants one star. Good luck!\n",
    "\n",
    "Before you leave, the Elves in accounting just need you to fix your expense report (your puzzle input); apparently, something isn't quite adding up.\n",
    "\n",
    "Specifically, they need you to find the two entries that sum to 2020 and then multiply those two numbers together.\n",
    "\n",
    "For example, suppose your expense report contained the following:\n",
    "\n",
    "1721\n",
    "979\n",
    "366\n",
    "299\n",
    "675\n",
    "1456\n",
    "\n",
    "In this list, the two entries that sum to 2020 are 1721 and 299. Multiplying them together produces 1721 * 299 = 514579, so the correct answer is 514579.\n",
    "\n",
    "Of course, your expense report is much larger. Find the two entries that sum to 2020; what do you get if you multiply them together?\n",
    "\n",
    "To begin, get your puzzle input. https://adventofcode.com/2020/day/1/input"
   ]
  },
  {
   "cell_type": "code",
   "execution_count": 1,
   "id": "6beea089",
   "metadata": {},
   "outputs": [],
   "source": [
    "# Read Data\n",
    "\n",
    "with open('data/day01_input.txt') as f:\n",
    "    lines_unformatted = f.readlines()\n",
    "\n",
    "list = []\n",
    "for line in lines_unformatted:\n",
    "    val = int(line[:-1])\n",
    "    list.append(val)"
   ]
  },
  {
   "cell_type": "code",
   "execution_count": 2,
   "id": "ce87b098",
   "metadata": {},
   "outputs": [
    {
     "name": "stdout",
     "output_type": "stream",
     "text": [
      "Result:\n",
      "1958 + 62 = 2020\n",
      "1958 * 62 = 121396\n"
     ]
    }
   ],
   "source": [
    "# Calculate First Part\n",
    "\n",
    "breaker = False\n",
    "for val1 in list:\n",
    "    for val2 in list:\n",
    "        if (val1 + val2 == 2020):\n",
    "            print(\"Result:\")\n",
    "            print(\"{x} + {y} = {z}\".format(x = val1, y = val2, z = val1 + val2))\n",
    "            print(\"{x} * {y} = {z}\".format(x = val1, y = val2, z = val1 * val2))\n",
    "            breaker = True\n",
    "        if (breaker == True):\n",
    "            break;"
   ]
  },
  {
   "cell_type": "code",
   "execution_count": 3,
   "id": "d97f2633",
   "metadata": {},
   "outputs": [
    {
     "name": "stdout",
     "output_type": "stream",
     "text": [
      "Result:\n",
      "426 + 1477 + 117 = 2020\n",
      "1477 * 117 + 117 = 73616634\n"
     ]
    }
   ],
   "source": [
    "# Calculate Second Part\n",
    "\n",
    "breaker = False\n",
    "for val1 in list:\n",
    "    for val2 in list:\n",
    "        for val3 in list:\n",
    "            if (val1 + val2 + val3 == 2020):\n",
    "                print(\"Result:\")\n",
    "                print(\"{w} + {x} + {y} = {z}\".format(w = val1, x = val2, y = val3, z = val1 + val2 + val3))\n",
    "                print(\"{x} * {y} + {y} = {z}\".format(w = val1, x = val2, y = val3, z = val1 * val2 * val3))\n",
    "                breaker = True\n",
    "            if (breaker == True):\n",
    "                break;"
   ]
  }
 ],
 "metadata": {
  "kernelspec": {
   "display_name": "Python 3 (ipykernel)",
   "language": "python",
   "name": "python3"
  },
  "language_info": {
   "codemirror_mode": {
    "name": "ipython",
    "version": 3
   },
   "file_extension": ".py",
   "mimetype": "text/x-python",
   "name": "python",
   "nbconvert_exporter": "python",
   "pygments_lexer": "ipython3",
   "version": "3.9.7"
  }
 },
 "nbformat": 4,
 "nbformat_minor": 5
}
