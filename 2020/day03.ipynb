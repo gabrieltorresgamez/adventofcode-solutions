{
 "cells": [
  {
   "cell_type": "markdown",
   "id": "f0334352",
   "metadata": {},
   "source": [
    "--- Day 3: Toboggan Trajectory ---\n",
    "\n",
    "With the toboggan login problems resolved, you set off toward the airport. While travel by toboggan might be easy, it's certainly not safe: there's very minimal steering and the area is covered in trees. You'll need to see which angles will take you near the fewest trees.\n",
    "\n",
    "Due to the local geology, trees in this area only grow on exact integer coordinates in a grid. You make a map (your puzzle input) of the open squares (.) and trees (#) you can see. For example:\n",
    "\n",
    "..##.......\n",
    "#...#...#..\n",
    ".#....#..#.\n",
    "..#.#...#.#\n",
    ".#...##..#.\n",
    "..#.##.....\n",
    ".#.#.#....#\n",
    ".#........#\n",
    "#.##...#...\n",
    "#...##....#\n",
    ".#..#...#.#\n",
    "These aren't the only trees, though; due to something you read about once involving arboreal genetics and biome stability, the same pattern repeats to the right many times:\n",
    "\n",
    "..##.........##.........##.........##.........##.........##.......  --->\n",
    "#...#...#..#...#...#..#...#...#..#...#...#..#...#...#..#...#...#..\n",
    ".#....#..#..#....#..#..#....#..#..#....#..#..#....#..#..#....#..#.\n",
    "..#.#...#.#..#.#...#.#..#.#...#.#..#.#...#.#..#.#...#.#..#.#...#.#\n",
    ".#...##..#..#...##..#..#...##..#..#...##..#..#...##..#..#...##..#.\n",
    "..#.##.......#.##.......#.##.......#.##.......#.##.......#.##.....  --->\n",
    ".#.#.#....#.#.#.#....#.#.#.#....#.#.#.#....#.#.#.#....#.#.#.#....#\n",
    ".#........#.#........#.#........#.#........#.#........#.#........#\n",
    "#.##...#...#.##...#...#.##...#...#.##...#...#.##...#...#.##...#...\n",
    "#...##....##...##....##...##....##...##....##...##....##...##....#\n",
    ".#..#...#.#.#..#...#.#.#..#...#.#.#..#...#.#.#..#...#.#.#..#...#.#  --->\n",
    "You start on the open square (.) in the top-left corner and need to reach the bottom (below the bottom-most row on your map).\n",
    "\n",
    "The toboggan can only follow a few specific slopes (you opted for a cheaper model that prefers rational numbers); start by counting all the trees you would encounter for the slope right 3, down 1:\n",
    "\n",
    "From your starting position at the top-left, check the position that is right 3 and down 1. Then, check the position that is right 3 and down 1 from there, and so on until you go past the bottom of the map.\n",
    "\n",
    "The locations you'd check in the above example are marked here with O where there was an open square and X where there was a tree:\n",
    "\n",
    "..##.........##.........##.........##.........##.........##.......  --->\n",
    "#..O#...#..#...#...#..#...#...#..#...#...#..#...#...#..#...#...#..\n",
    ".#....X..#..#....#..#..#....#..#..#....#..#..#....#..#..#....#..#.\n",
    "..#.#...#O#..#.#...#.#..#.#...#.#..#.#...#.#..#.#...#.#..#.#...#.#\n",
    ".#...##..#..X...##..#..#...##..#..#...##..#..#...##..#..#...##..#.\n",
    "..#.##.......#.X#.......#.##.......#.##.......#.##.......#.##.....  --->\n",
    ".#.#.#....#.#.#.#.O..#.#.#.#....#.#.#.#....#.#.#.#....#.#.#.#....#\n",
    ".#........#.#........X.#........#.#........#.#........#.#........#\n",
    "#.##...#...#.##...#...#.X#...#...#.##...#...#.##...#...#.##...#...\n",
    "#...##....##...##....##...#X....##...##....##...##....##...##....#\n",
    ".#..#...#.#.#..#...#.#.#..#...X.#.#..#...#.#.#..#...#.#.#..#...#.#  --->\n",
    "In this example, traversing the map using this slope would cause you to encounter 7 trees.\n",
    "\n",
    "Starting at the top-left corner of your map and following a slope of right 3 and down 1, how many trees would you encounter?\n",
    "\n",
    "To begin, get your puzzle input. https://adventofcode.com/2020/day/3/input"
   ]
  },
  {
   "cell_type": "code",
   "execution_count": 1,
   "id": "b85b914e",
   "metadata": {},
   "outputs": [],
   "source": [
    "# Read Data\n",
    "\n",
    "list = []\n",
    "with open('data/day03_input.txt') as f:\n",
    "    for line in f:\n",
    "        chars = []\n",
    "        for char in line: \n",
    "            chars.append(char)\n",
    "        list.append(chars[:-1])"
   ]
  },
  {
   "cell_type": "code",
   "execution_count": 2,
   "id": "6abeb8a4",
   "metadata": {},
   "outputs": [
    {
     "name": "stdout",
     "output_type": "stream",
     "text": [
      "Count of Trees : 282\n"
     ]
    }
   ],
   "source": [
    "# Calculate First Part\n",
    "\n",
    "count = 0\n",
    "x = 0\n",
    "y = 0\n",
    "\n",
    "while y < len(list):\n",
    "    if (list[y][x] == '#'):\n",
    "        count += 1\n",
    "    x += 3\n",
    "    x = x % len(list[0])\n",
    "    y += 1\n",
    "\n",
    "print(\"Count of Trees : {x}\".format(x = count))"
   ]
  },
  {
   "cell_type": "markdown",
   "id": "f07f2fa8",
   "metadata": {},
   "source": [
    "--- Part Two ---\n",
    "\n",
    "Time to check the rest of the slopes - you need to minimize the probability of a sudden arboreal stop, after all.\n",
    "\n",
    "Determine the number of trees you would encounter if, for each of the following slopes, you start at the top-left corner and traverse the map all the way to the bottom:\n",
    "\n",
    "Right 1, down 1.\n",
    "\n",
    "Right 3, down 1. (This is the slope you already checked.)\n",
    "\n",
    "Right 5, down 1.\n",
    "\n",
    "Right 7, down 1.\n",
    "\n",
    "Right 1, down 2.\n",
    "\n",
    "In the above example, these slopes would find 2, 7, 3, 4, and 2 tree(s) respectively; multiplied together, these produce the answer 336.\n",
    "\n",
    "What do you get if you multiply together the number of trees encountered on each of the listed slopes?"
   ]
  },
  {
   "cell_type": "code",
   "execution_count": 3,
   "id": "beebf1e7",
   "metadata": {},
   "outputs": [
    {
     "name": "stdout",
     "output_type": "stream",
     "text": [
      "Multiplication of Trees = 53 * 282 * 54 * 54 * 22 = 958815792\n"
     ]
    }
   ],
   "source": [
    "# Calculate Second Part\n",
    "\n",
    "def checktrees(change_x, change_y):\n",
    "    count = 0\n",
    "    x = 0\n",
    "    y = 0\n",
    "\n",
    "    while y < len(list):\n",
    "        if (list[y][x] == '#'):\n",
    "            count += 1\n",
    "        x += change_x\n",
    "        x %= len(list[0])\n",
    "        y += change_y\n",
    "\n",
    "    return count\n",
    "\n",
    "result = checktrees(1,1) * checktrees(3,1) * checktrees(5,1) \n",
    "result *= checktrees(7,1) * checktrees(1,2)\n",
    "    \n",
    "print(\"Multiplication of Trees = {u} * {v} * {w} * {x} * {y} = {z}\".format(\n",
    "                                                   u = checktrees(1,1),\n",
    "                                                   v = checktrees(3,1),\n",
    "                                                   w = checktrees(5,1),\n",
    "                                                   x = checktrees(7,1),\n",
    "                                                   y = checktrees(1,2),\n",
    "                                                   z = result))"
   ]
  }
 ],
 "metadata": {
  "kernelspec": {
   "display_name": "Python 3 (ipykernel)",
   "language": "python",
   "name": "python3"
  },
  "language_info": {
   "codemirror_mode": {
    "name": "ipython",
    "version": 3
   },
   "file_extension": ".py",
   "mimetype": "text/x-python",
   "name": "python",
   "nbconvert_exporter": "python",
   "pygments_lexer": "ipython3",
   "version": "3.9.7"
  }
 },
 "nbformat": 4,
 "nbformat_minor": 5
}
