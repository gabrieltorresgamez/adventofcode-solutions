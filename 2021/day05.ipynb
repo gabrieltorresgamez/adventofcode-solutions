{
 "cells": [
  {
   "cell_type": "markdown",
   "id": "56c7d000",
   "metadata": {},
   "source": [
    "Part 1:"
   ]
  },
  {
   "cell_type": "code",
   "execution_count": 1,
   "id": "8987e338",
   "metadata": {},
   "outputs": [],
   "source": [
    "with open(\"data/day05_input.txt\") as f:\n",
    "    data = [line.split(' -> ') for line in f.read().splitlines()]\n",
    "data = [[pair.split(',') for pair in line] for line in data]\n",
    "data = [[[int(coords) for coords in pair] for pair in line] for line in data]"
   ]
  },
  {
   "cell_type": "code",
   "execution_count": 2,
   "id": "b0acd40b",
   "metadata": {},
   "outputs": [
    {
     "name": "stdout",
     "output_type": "stream",
     "text": [
      "6113\n"
     ]
    }
   ],
   "source": [
    "matrix_dimension = 1000\n",
    "matrix = [[0 for j in range(matrix_dimension)] for i in range(matrix_dimension)]\n",
    "\n",
    "def addToMatrix(pair_start, pair_end, orientation):\n",
    "    start_value = pair_start[orientation]\n",
    "    end_value = pair_end[orientation]\n",
    "    pos = pair_start[1 - orientation]\n",
    "    if end_value > start_value:\n",
    "        for i in range(start_value, end_value + 1):\n",
    "            if orientation == 0:\n",
    "                matrix[i][pos] += 1\n",
    "            else:\n",
    "                matrix[pos][i] += 1\n",
    "    else:\n",
    "        for i in range(start_value, end_value - 1 , -1):\n",
    "            if orientation == 0:\n",
    "                matrix[i][pos] += 1\n",
    "            else:\n",
    "                matrix[pos][i] += 1\n",
    "\n",
    "for line in data:\n",
    "    pair_start = line[0]\n",
    "    pair_end = line[1]\n",
    "    if pair_start[0] == pair_end[0] or pair_start[1] == pair_end[1]:\n",
    "        for i in range(2):\n",
    "            if pair_start[i] != pair_end[i]:\n",
    "                addToMatrix(pair_start, pair_end, i)\n",
    "            \n",
    "            \n",
    "count = sum([sum([1 for value in row if value > 1]) for row in matrix])\n",
    "print(count)"
   ]
  },
  {
   "cell_type": "markdown",
   "id": "e6054278",
   "metadata": {},
   "source": [
    "Part 2:"
   ]
  },
  {
   "cell_type": "code",
   "execution_count": 3,
   "id": "6f70f9b9",
   "metadata": {},
   "outputs": [
    {
     "name": "stdout",
     "output_type": "stream",
     "text": [
      "20373\n"
     ]
    }
   ],
   "source": [
    "matrix_dimension = 1000\n",
    "matrix = [[0 for j in range(matrix_dimension)] for i in range(matrix_dimension)]\n",
    "\n",
    "def addVerticalToMatrix(pair_start, pair_end):\n",
    "    ranges = []\n",
    "    for i in range(2):\n",
    "        if pair_start[i] > pair_end[i]: \n",
    "            ranges.append(range(pair_start[i], pair_end[i] - 1, -1))\n",
    "        else:\n",
    "            ranges.append(range(pair_start[i], pair_end[i] + 1, 1))\n",
    "    for i in range(len(ranges[0])):\n",
    "        matrix[ranges[0][i]][ranges[1][i]] += 1\n",
    "    \n",
    "\n",
    "for line in data:\n",
    "    pair_start = line[0]\n",
    "    pair_end = line[1]\n",
    "    if pair_start[0] == pair_end[0] or pair_start[1] == pair_end[1]:\n",
    "        for i in range(2):\n",
    "            if pair_start[i] != pair_end[i]:\n",
    "                addToMatrix(pair_start, pair_end, i)\n",
    "    else:\n",
    "        addVerticalToMatrix(pair_start, pair_end)\n",
    "            \n",
    "            \n",
    "count = sum([sum([1 for value in row if value > 1]) for row in matrix])\n",
    "print(count)"
   ]
  }
 ],
 "metadata": {
  "kernelspec": {
   "display_name": "Python 3 (ipykernel)",
   "language": "python",
   "name": "python3"
  },
  "language_info": {
   "codemirror_mode": {
    "name": "ipython",
    "version": 3
   },
   "file_extension": ".py",
   "mimetype": "text/x-python",
   "name": "python",
   "nbconvert_exporter": "python",
   "pygments_lexer": "ipython3",
   "version": "3.9.7"
  }
 },
 "nbformat": 4,
 "nbformat_minor": 5
}
