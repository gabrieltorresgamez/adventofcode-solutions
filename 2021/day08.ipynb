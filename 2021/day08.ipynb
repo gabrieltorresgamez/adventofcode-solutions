{
 "cells": [
  {
   "cell_type": "code",
   "execution_count": 1,
   "id": "8d3edbcf",
   "metadata": {},
   "outputs": [],
   "source": [
    "with open(\"data/day08_input.txt\") as f:\n",
    "    data = [[values.split() for values in line.split('|')] for line in f.readlines()]"
   ]
  },
  {
   "cell_type": "markdown",
   "id": "91073a75",
   "metadata": {},
   "source": [
    "Part 1:"
   ]
  },
  {
   "cell_type": "code",
   "execution_count": 2,
   "id": "8e57c7cb",
   "metadata": {},
   "outputs": [
    {
     "name": "stdout",
     "output_type": "stream",
     "text": [
      "294\n"
     ]
    }
   ],
   "source": [
    "print(sum([sum([1 for val in line[1] if (len(val) in [2, 3, 4, 7])]) for line in data]))"
   ]
  },
  {
   "cell_type": "markdown",
   "id": "5e964810",
   "metadata": {},
   "source": [
    "Part 2:"
   ]
  },
  {
   "cell_type": "code",
   "execution_count": 3,
   "id": "62330302",
   "metadata": {},
   "outputs": [
    {
     "name": "stdout",
     "output_type": "stream",
     "text": [
      "973292\n"
     ]
    }
   ],
   "source": [
    "def comparer(first, second):\n",
    "    match = \"\"\n",
    "    for x in range(len(first)):\n",
    "        for y in range(len(second)):\n",
    "            if first[x] == second[y]:\n",
    "                match += first[x]\n",
    "    return match\n",
    "\n",
    "def isSameString(first, second):\n",
    "    count = 0\n",
    "    for x in range(len(first)):\n",
    "        for y in range(len(second)):\n",
    "            if first[x] == second[y]:\n",
    "                count += 1\n",
    "    return count == len(first) and len(first) == len(second)  \n",
    "\n",
    "\n",
    "answers = []\n",
    "for line in data:\n",
    "    codes = [\"\" for _ in range(10)]\n",
    "    allValues = line[0] + line[1]\n",
    "    for value in allValues:\n",
    "        if len(value) == 2:\n",
    "            codes[1] = value\n",
    "        if len(value) == 3:\n",
    "            codes[7] = value\n",
    "        if len(value) == 4:\n",
    "            codes[4] = value\n",
    "        if len(value) == 7:\n",
    "            codes[8] = value\n",
    "    for value in allValues:\n",
    "        if len(value) == 6: # 0 6 9\n",
    "            if len(comparer(value, codes[1])) == 1: \n",
    "                codes[6] = value\n",
    "            if len(comparer(value, codes[1])) == 2: # 0 9\n",
    "                if len(comparer(value, codes[4])) == 4:\n",
    "                    codes[9] = value\n",
    "                if len(comparer(value, codes[4])) == 3:\n",
    "                    codes[0] = value\n",
    "        if len(value) == 5: # 2 3 5\n",
    "            if len(comparer(value, codes[1])) == 2:\n",
    "                codes[3] = value\n",
    "            if len(comparer(value, codes[1])) == 1: # 2 5\n",
    "                if len(comparer(value, codes[4])) == 2: \n",
    "                    codes[2] = value\n",
    "                if len(comparer(value, codes[4])) == 3: \n",
    "                    codes[5] = value\n",
    "    answer_line = \"\"\n",
    "    for value in line[1]:\n",
    "        for i in range(len(codes)):\n",
    "            if isSameString(value, codes[i]):\n",
    "                answer_line += str(i)\n",
    "                break;\n",
    "    answers.append(int(answer_line))\n",
    "print(sum(answers))"
   ]
  }
 ],
 "metadata": {
  "kernelspec": {
   "display_name": "Python 3 (ipykernel)",
   "language": "python",
   "name": "python3"
  },
  "language_info": {
   "codemirror_mode": {
    "name": "ipython",
    "version": 3
   },
   "file_extension": ".py",
   "mimetype": "text/x-python",
   "name": "python",
   "nbconvert_exporter": "python",
   "pygments_lexer": "ipython3",
   "version": "3.9.7"
  }
 },
 "nbformat": 4,
 "nbformat_minor": 5
}
