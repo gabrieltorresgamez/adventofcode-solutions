{
 "cells": [
  {
   "cell_type": "code",
   "execution_count": 1,
   "id": "d672bd13",
   "metadata": {},
   "outputs": [],
   "source": [
    "from numba import jit\n",
    "import warnings\n",
    "import timeit\n",
    "\n",
    "warnings.filterwarnings('ignore')"
   ]
  },
  {
   "cell_type": "code",
   "execution_count": 2,
   "id": "2c8af78b",
   "metadata": {},
   "outputs": [],
   "source": [
    "with open(\"data/day06_input.txt\") as f:\n",
    "    data = [int(line) for line in f.read().split(',')]"
   ]
  },
  {
   "cell_type": "markdown",
   "id": "fa293116",
   "metadata": {},
   "source": [
    "Part 1:"
   ]
  },
  {
   "cell_type": "code",
   "execution_count": 3,
   "id": "6f52a8cb",
   "metadata": {},
   "outputs": [
    {
     "name": "stdout",
     "output_type": "stream",
     "text": [
      "Started with 300 lanternfish.\n",
      "Ended with 386755 lanternfish.\n"
     ]
    }
   ],
   "source": [
    "print(\"Started with \" + str(len(data)) + \" lanternfish.\")\n",
    "\n",
    "@jit\n",
    "def sim(list, simulated_days):\n",
    "    for _ in range(simulated_days):\n",
    "        for i in range(len(list)):\n",
    "            if list[i] == 0:\n",
    "                list[i] = 6\n",
    "                list.append(8)\n",
    "            else:\n",
    "                list[i] -= 1         \n",
    "    return(list)\n",
    "\n",
    "print(\"Ended with \" + str(len(sim(data.copy(), 80))) + \" lanternfish.\")"
   ]
  },
  {
   "cell_type": "markdown",
   "id": "48be0886",
   "metadata": {},
   "source": [
    "Part 2:"
   ]
  },
  {
   "cell_type": "code",
   "execution_count": 4,
   "id": "27038259",
   "metadata": {},
   "outputs": [
    {
     "name": "stdout",
     "output_type": "stream",
     "text": [
      "Started with 300 lanternfish.\n",
      "Ended with 1732731810807 lanternfish.\n"
     ]
    }
   ],
   "source": [
    "print(\"Started with \" + str(len(data)) + \" lanternfish.\")\n",
    "\n",
    "@jit\n",
    "def sim_eff(list, simulated_days):\n",
    "    lanternfish = [sum([1 for val in list if val == i]) for i in range(9)]  \n",
    "    for _ in range(simulated_days):\n",
    "        lanternfish.append(lanternfish[0])\n",
    "        lanternfish[7] += lanternfish[0]\n",
    "        lanternfish.pop(0)\n",
    "    return(lanternfish)\n",
    "\n",
    "print(\"Ended with \" + str(sum(sim_eff(data.copy(), 256))) + \" lanternfish.\")"
   ]
  },
  {
   "cell_type": "code",
   "execution_count": 5,
   "id": "4075ca92",
   "metadata": {
    "scrolled": true
   },
   "outputs": [
    {
     "name": "stdout",
     "output_type": "stream",
     "text": [
      "Nicht optimiert vs optimiert:\n",
      "2.33 s ± 71.3 ms per loop (mean ± std. dev. of 7 runs, 1 loop each)\n",
      "90.3 µs ± 369 ns per loop (mean ± std. dev. of 7 runs, 10000 loops each)\n",
      "\n",
      "Nicht optimiert vs optimiert | Numba:\n",
      "114 ms ± 541 µs per loop (mean ± std. dev. of 7 runs, 10 loops each)\n",
      "359 µs ± 1.26 µs per loop (mean ± std. dev. of 7 runs, 1000 loops each)\n"
     ]
    }
   ],
   "source": [
    "# Vorherige Funktion vs optimierte Funktion bei 100 Iterationen\n",
    "print(\"Nicht optimiert vs optimiert:\")\n",
    "%timeit sum(sim.py_func(data.copy(), 100)) # Sehr langsam :(\n",
    "%timeit sum(sim_eff.py_func(data.copy(), 100)) # Um die 25'000x schneller als unoptimiert\n",
    "\n",
    "print(\"\\nNicht optimiert vs optimiert | Numba:\")\n",
    "# Optimierung mit Numba\n",
    "%timeit sum(sim(data.copy(), 100)) # 20x schneller als ohne Numba\n",
    "%timeit sum(sim_eff(data.copy(), 100)) # 4x langsamer als ohne Numba"
   ]
  }
 ],
 "metadata": {
  "kernelspec": {
   "display_name": "Python 3 (ipykernel)",
   "language": "python",
   "name": "python3"
  },
  "language_info": {
   "codemirror_mode": {
    "name": "ipython",
    "version": 3
   },
   "file_extension": ".py",
   "mimetype": "text/x-python",
   "name": "python",
   "nbconvert_exporter": "python",
   "pygments_lexer": "ipython3",
   "version": "3.9.7"
  }
 },
 "nbformat": 4,
 "nbformat_minor": 5
}
