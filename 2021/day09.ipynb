{
 "cells": [
  {
   "cell_type": "code",
   "execution_count": 1,
   "id": "d7144709",
   "metadata": {},
   "outputs": [],
   "source": [
    "with open(\"data/day09_input.txt\") as f:\n",
    "    heatmap = [[int(char) for char in line.strip()] for line in f]"
   ]
  },
  {
   "cell_type": "markdown",
   "id": "c04d4536",
   "metadata": {},
   "source": [
    "Part 1:"
   ]
  },
  {
   "cell_type": "code",
   "execution_count": 2,
   "id": "97c5d6d2",
   "metadata": {},
   "outputs": [
    {
     "name": "stdout",
     "output_type": "stream",
     "text": [
      "539\n"
     ]
    }
   ],
   "source": [
    "def isLocalMinimum(i , j):\n",
    "    points = []\n",
    "    if i != 0: \n",
    "        points.append(heatmap[i - 1][j])\n",
    "    if j != 0:\n",
    "        points.append(heatmap[i][j - 1])\n",
    "    if i != len(heatmap) - 1:\n",
    "        points.append(heatmap[i + 1][j])\n",
    "    if j != len(heatmap[0]) - 1:\n",
    "        points.append(heatmap[i][j + 1])\n",
    "    return min(points) > heatmap[i][j]\n",
    "\n",
    "risk = 0\n",
    "for i in range(len(heatmap)):\n",
    "    for j in range(len(heatmap[0])):\n",
    "        if isLocalMinimum(i, j):\n",
    "            risk += heatmap[i][j] + 1\n",
    "print(risk)"
   ]
  },
  {
   "cell_type": "markdown",
   "id": "b8c06853",
   "metadata": {},
   "source": [
    "Part 2:"
   ]
  },
  {
   "cell_type": "code",
   "execution_count": 3,
   "id": "261fbeb1",
   "metadata": {},
   "outputs": [],
   "source": [
    "def calcNeighbours(basinpoints, i , j):\n",
    "    if heatmap[i][j] != 9:\n",
    "        basinpoints.append([heatmap[i][j], i, j])\n",
    "        points = []\n",
    "        if i != 0: \n",
    "            points.append([heatmap[i - 1][j], i - 1, j])\n",
    "        if j != 0:\n",
    "            points.append([heatmap[i][j - 1], i, j - 1])\n",
    "        if i != len(heatmap) - 1:\n",
    "            points.append([heatmap[i + 1][j], i + 1, j])\n",
    "        if j != len(heatmap[0]) - 1:\n",
    "            points.append([heatmap[i][j + 1], i, j + 1])\n",
    "\n",
    "        for point in points:\n",
    "            if point[0] != 9 and point not in basinpoints:\n",
    "                basinpoints = calcNeighbours(basinpoints, point[1], point[2])\n",
    "    return basinpoints"
   ]
  },
  {
   "cell_type": "code",
   "execution_count": 4,
   "id": "ab586c2b",
   "metadata": {},
   "outputs": [
    {
     "name": "stdout",
     "output_type": "stream",
     "text": [
      "736920\n"
     ]
    }
   ],
   "source": [
    "basins = []\n",
    "for i in range(len(heatmap)):\n",
    "    for j in range(len(heatmap[0])):\n",
    "        point_basin = sorted(calcNeighbours([], i, j), key=lambda x: (x[0], x[1], x[2]))\n",
    "        if point_basin not in basins:\n",
    "            basins.append(point_basin)\n",
    "\n",
    "topBasins = sorted(basins, key = len, reverse = True)[0:3]\n",
    "answer = len(topBasins[0]) * len(topBasins[1]) * len(topBasins[2])\n",
    "\n",
    "print(answer)"
   ]
  }
 ],
 "metadata": {
  "kernelspec": {
   "display_name": "Python 3 (ipykernel)",
   "language": "python",
   "name": "python3"
  },
  "language_info": {
   "codemirror_mode": {
    "name": "ipython",
    "version": 3
   },
   "file_extension": ".py",
   "mimetype": "text/x-python",
   "name": "python",
   "nbconvert_exporter": "python",
   "pygments_lexer": "ipython3",
   "version": "3.9.7"
  }
 },
 "nbformat": 4,
 "nbformat_minor": 5
}
