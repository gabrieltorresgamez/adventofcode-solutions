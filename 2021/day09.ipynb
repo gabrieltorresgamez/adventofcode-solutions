{
 "cells": [
  {
   "cell_type": "markdown",
   "id": "c04d4536",
   "metadata": {},
   "source": [
    "Part 1:"
   ]
  },
  {
   "cell_type": "code",
   "execution_count": 1,
   "id": "d7144709",
   "metadata": {},
   "outputs": [],
   "source": [
    "with open(\"data/day09_input.txt\") as f:\n",
    "    heatmap = [[int(char) for char in line.strip()] for line in f]"
   ]
  },
  {
   "cell_type": "code",
   "execution_count": 2,
   "id": "97c5d6d2",
   "metadata": {},
   "outputs": [
    {
     "name": "stdout",
     "output_type": "stream",
     "text": [
      "1679\n"
     ]
    }
   ],
   "source": [
    "def isLocalMinimum(i , j):\n",
    "    points = [heatmap[i][j]]\n",
    "    if i != 0: \n",
    "        points.append(heatmap[i - 1][j])\n",
    "    if j != 0:\n",
    "        points.append(heatmap[i][j - 1])\n",
    "    if i != len(heatmap) - 1:\n",
    "        points.append(heatmap[i + 1][j])\n",
    "    if j != len(heatmap[0]) - 1:\n",
    "        points.append(heatmap[i][j + 1])\n",
    "    lowest = sorted(points)[0]\n",
    "    if lowest == points[0]:\n",
    "        return True\n",
    "    return False\n",
    "\n",
    "lowest_points = []\n",
    "for i in range(len(heatmap)):\n",
    "    for j in range(len(heatmap[0])):\n",
    "        if isLocalMinimum(i, j):\n",
    "            lowest_points.append(heatmap[i][j])\n",
    "            \n",
    "risk = sum([point + 1 for point in lowest_points])\n",
    "print(risk)"
   ]
  },
  {
   "cell_type": "code",
   "execution_count": 3,
   "id": "850f6d1b",
   "metadata": {},
   "outputs": [
    {
     "name": "stdout",
     "output_type": "stream",
     "text": [
      "1679\n"
     ]
    }
   ],
   "source": [
    "def calcLowest(i , j):\n",
    "    # Parameter zur Verarbeitung von Kanten\n",
    "    i_t, i_b, j_t, j_b = 1, 1, 1, 1\n",
    "    if i == 0: \n",
    "        i_t = 0\n",
    "    if j == 0:\n",
    "        j_t = 0\n",
    "    if i == len(heatmap) - 1:\n",
    "        i_b = 0\n",
    "    if j == len(heatmap[0]) - 1:\n",
    "        j_b = 0\n",
    "        \n",
    "    # Alle benachbarten Punkte berechnen\n",
    "    points = [[heatmap[x][y], x, y] for x in range(i - i_t, i + i_b + 1) for y in range(j - j_t, j + j_b + 1) if x == i or y == j]\n",
    "    \n",
    "    # Punkteliste sortieren -> kleinsten Nachbar berechnen\n",
    "    lowest = sorted(points, key=lambda x: x[0])[0]\n",
    "    \n",
    "    # Falls kleinster Punkt = vorheriger Punkt -> Punkt in Liste speichern\n",
    "    if lowest[0] == heatmap[i][j]:\n",
    "        return [heatmap[i][j], i, j]\n",
    "    # Falls kleinster Punkt != vorheriger Punkt -> Kleinster Nachbar vom neuen Punkt berechnen\n",
    "    else:\n",
    "        return calcLowest(lowest[1], lowest[2])\n",
    "\n",
    "# Alle Punkte in der Matrix durchiterieren und lokales Minimum berechnen\n",
    "lowest_points = []\n",
    "for i in range(len(heatmap)):\n",
    "    for j in range(len(heatmap[0])):\n",
    "        lowest_points.append(tuple(calcLowest(i, j)))\n",
    "\n",
    "# Duplikate entfernen und risk Wert berechnen\n",
    "lowest_points = set(lowest_points)\n",
    "risk = sum([point[0] + 1 for point in lowest_points])\n",
    "\n",
    "print(risk)"
   ]
  }
 ],
 "metadata": {
  "kernelspec": {
   "display_name": "Python 3 (ipykernel)",
   "language": "python",
   "name": "python3"
  },
  "language_info": {
   "codemirror_mode": {
    "name": "ipython",
    "version": 3
   },
   "file_extension": ".py",
   "mimetype": "text/x-python",
   "name": "python",
   "nbconvert_exporter": "python",
   "pygments_lexer": "ipython3",
   "version": "3.9.7"
  }
 },
 "nbformat": 4,
 "nbformat_minor": 5
}
