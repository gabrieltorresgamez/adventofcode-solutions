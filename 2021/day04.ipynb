{
 "cells": [
  {
   "cell_type": "markdown",
   "id": "ab0d11d8",
   "metadata": {},
   "source": [
    "--- Day 4: Giant Squid ---\n",
    "\n",
    "You're already almost 1.5km (almost a mile) below the surface of the ocean, already so deep that you can't see any sunlight. What you can see, however, is a giant squid that has attached itself to the outside of your submarine.\n",
    "\n",
    "Maybe it wants to play bingo?\n",
    "\n",
    "Bingo is played on a set of boards each consisting of a 5x5 grid of numbers. Numbers are chosen at random, and the chosen number is marked on all boards on which it appears. (Numbers may not appear on all boards.) If all numbers in any row or any column of a board are marked, that board wins. (Diagonals don't count.)\n",
    "\n",
    "The submarine has a bingo subsystem to help passengers (currently, you and the giant squid) pass the time. It automatically generates a random order in which to draw numbers and a random set of boards (your puzzle input). For example:"
   ]
  },
  {
   "cell_type": "raw",
   "id": "3f62e732",
   "metadata": {},
   "source": [
    "7,4,9,5,11,17,23,2,0,14,21,24,10,16,13,6,15,25,12,22,18,20,8,19,3,26,1\n",
    "\n",
    "22 13 17 11  0\n",
    " 8  2 23  4 24\n",
    "21  9 14 16  7\n",
    " 6 10  3 18  5\n",
    " 1 12 20 15 19\n",
    "\n",
    " 3 15  0  2 22\n",
    " 9 18 13 17  5\n",
    "19  8  7 25 23\n",
    "20 11 10 24  4\n",
    "14 21 16 12  6\n",
    "\n",
    "14 21 17 24  4\n",
    "10 16 15  9 19\n",
    "18  8 23 26 20\n",
    "22 11 13  6  5\n",
    " 2  0 12  3  7"
   ]
  },
  {
   "cell_type": "markdown",
   "id": "1eef189e",
   "metadata": {},
   "source": [
    "After the first five numbers are drawn (7, 4, 9, 5, and 11), there are no winners, but the boards are marked as follows (shown here adjacent to each other to save space):"
   ]
  },
  {
   "cell_type": "raw",
   "id": "c812f5de",
   "metadata": {},
   "source": [
    "22 13 17 11  0         3 15  0  2 22        14 21 17 24  4\n",
    " 8  2 23  4 24         9 18 13 17  5        10 16 15  9 19\n",
    "21  9 14 16  7        19  8  7 25 23        18  8 23 26 20\n",
    " 6 10  3 18  5        20 11 10 24  4        22 11 13  6  5\n",
    " 1 12 20 15 19        14 21 16 12  6         2  0 12  3  7"
   ]
  },
  {
   "cell_type": "markdown",
   "id": "b8cb37f0",
   "metadata": {},
   "source": [
    "After the next six numbers are drawn (17, 23, 2, 0, 14, and 21), there are still no winners:"
   ]
  },
  {
   "cell_type": "raw",
   "id": "ee91f1d0",
   "metadata": {},
   "source": [
    "22 13 17 11  0         3 15  0  2 22        14 21 17 24  4\n",
    " 8  2 23  4 24         9 18 13 17  5        10 16 15  9 19\n",
    "21  9 14 16  7        19  8  7 25 23        18  8 23 26 20\n",
    " 6 10  3 18  5        20 11 10 24  4        22 11 13  6  5\n",
    " 1 12 20 15 19        14 21 16 12  6         2  0 12  3  7"
   ]
  },
  {
   "cell_type": "markdown",
   "id": "e6b6b4e9",
   "metadata": {},
   "source": [
    "Finally, 24 is drawn:"
   ]
  },
  {
   "cell_type": "raw",
   "id": "e0628dc4",
   "metadata": {},
   "source": [
    "22 13 17 11  0         3 15  0  2 22        14 21 17 24  4\n",
    " 8  2 23  4 24         9 18 13 17  5        10 16 15  9 19\n",
    "21  9 14 16  7        19  8  7 25 23        18  8 23 26 20\n",
    " 6 10  3 18  5        20 11 10 24  4        22 11 13  6  5\n",
    " 1 12 20 15 19        14 21 16 12  6         2  0 12  3  7"
   ]
  },
  {
   "cell_type": "markdown",
   "id": "e6d845f8",
   "metadata": {},
   "source": [
    "At this point, the third board wins because it has at least one complete row or column of marked numbers (in this case, the entire top row is marked: 14 21 17 24 4).\n",
    "\n",
    "The score of the winning board can now be calculated. Start by finding the sum of all unmarked numbers on that board; in this case, the sum is 188. Then, multiply that sum by the number that was just called when the board won, 24, to get the final score, 188 * 24 = 4512.\n",
    "\n",
    "To guarantee victory against the giant squid, figure out which board will win first. What will your final score be if you choose that board?"
   ]
  },
  {
   "cell_type": "code",
   "execution_count": 1,
   "id": "773eb96e",
   "metadata": {},
   "outputs": [],
   "source": [
    "with open(\"data/day04_input.txt\") as f:\n",
    "    data = f.read().split(\"\\n\\n\")\n",
    "    \n",
    "number_list = [int(val) for val in data[0].split(',')]\n",
    "del data[0]\n",
    "\n",
    "boards = [[[int(char) for char in row.split()] for row in board.split('\\n')] for board in data]"
   ]
  },
  {
   "cell_type": "code",
   "execution_count": 2,
   "id": "0a9492b5",
   "metadata": {},
   "outputs": [],
   "source": [
    "def getBestBoard(boards):\n",
    "    temp_numbers = []\n",
    "    for number in number_list:\n",
    "        temp_numbers.append(number)\n",
    "        for board in boards:\n",
    "            for row in board:\n",
    "                counter = 0\n",
    "                for temp_number in temp_numbers:\n",
    "                    if temp_number in row:\n",
    "                        counter += 1\n",
    "                if counter == 5:\n",
    "                    return(board, temp_numbers)\n",
    "            columns = [[item[i] for item in board] for i in range(5)]\n",
    "            for col in columns:\n",
    "                counter = 0\n",
    "                for temp_number in temp_numbers:\n",
    "                    if temp_number in col:\n",
    "                        counter += 1\n",
    "                if counter == 5:\n",
    "                    return(board, temp_numbers)\n",
    "    return(None)"
   ]
  },
  {
   "cell_type": "code",
   "execution_count": 3,
   "id": "ab46f8f0",
   "metadata": {},
   "outputs": [
    {
     "name": "stdout",
     "output_type": "stream",
     "text": [
      "44088\n"
     ]
    }
   ],
   "source": [
    "winning_board, drawn_numbers = getBestBoard(boards)\n",
    "\n",
    "sum_undrawn = 0\n",
    "for row in winning_board:\n",
    "    for number in row:\n",
    "        if number not in drawn_numbers:\n",
    "            sum_undrawn += number\n",
    "\n",
    "score = sum_undrawn * drawn_numbers[-1]\n",
    "print(score)"
   ]
  },
  {
   "cell_type": "markdown",
   "id": "065e2822",
   "metadata": {},
   "source": [
    "--- Part Two ---\n",
    "\n",
    "On the other hand, it might be wise to try a different strategy: let the giant squid win.\n",
    "\n",
    "You aren't sure how many bingo boards a giant squid could play at once, so rather than waste time counting its arms, the safe thing to do is to figure out which board will win last and choose that one. That way, no matter which boards it picks, it will win for sure.\n",
    "\n",
    "In the above example, the second board is the last to win, which happens after 13 is eventually called and its middle column is completely marked. If you were to keep playing until this point, the second board would have a sum of unmarked numbers equal to 148 for a final score of 148 * 13 = 1924.\n",
    "\n",
    "Figure out which board will win last. Once it wins, what would its final score be?"
   ]
  },
  {
   "cell_type": "markdown",
   "id": "6c761883",
   "metadata": {},
   "source": [
    "Attempt Part 2:"
   ]
  },
  {
   "cell_type": "code",
   "execution_count": 4,
   "id": "6c076a06",
   "metadata": {},
   "outputs": [],
   "source": [
    "def getLastWinningBoard(boards):\n",
    "    for _ in range(len(boards)-1):\n",
    "        boards, temp_numbers = removeWinningBoard(boards)\n",
    "    return(boards[0], [temp_numbers])\n",
    "\n",
    "def removeWinningBoard(boards):\n",
    "    temp_board = getBestBoard(boards)\n",
    "    temp_list_boards = []\n",
    "    for board in boards:\n",
    "        if board != temp_board[0]:\n",
    "            temp_list_boards.append(board)\n",
    "    return(temp_list_boards, temp_board[1])"
   ]
  },
  {
   "cell_type": "code",
   "execution_count": 5,
   "id": "96716506",
   "metadata": {},
   "outputs": [
    {
     "name": "stdout",
     "output_type": "stream",
     "text": [
      "24850\n"
     ]
    }
   ],
   "source": [
    "last_winning_board, last_drawn_numbers = getLastWinningBoard(boards)\n",
    "\n",
    "sum_undrawn = 0\n",
    "for row in last_winning_board:\n",
    "    for number in row:\n",
    "        if number not in last_drawn_numbers[0]:\n",
    "            sum_undrawn += number\n",
    "\n",
    "score = sum_undrawn * last_drawn_numbers[0][-1]\n",
    "print(score)"
   ]
  }
 ],
 "metadata": {
  "kernelspec": {
   "display_name": "Python 3 (ipykernel)",
   "language": "python",
   "name": "python3"
  },
  "language_info": {
   "codemirror_mode": {
    "name": "ipython",
    "version": 3
   },
   "file_extension": ".py",
   "mimetype": "text/x-python",
   "name": "python",
   "nbconvert_exporter": "python",
   "pygments_lexer": "ipython3",
   "version": "3.9.7"
  }
 },
 "nbformat": 4,
 "nbformat_minor": 5
}
