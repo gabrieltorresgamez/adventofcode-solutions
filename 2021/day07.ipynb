{
 "cells": [
  {
   "cell_type": "code",
   "execution_count": 1,
   "id": "3cec89bb",
   "metadata": {},
   "outputs": [],
   "source": [
    "with open(\"data/day07_input.txt\") as f:\n",
    "    data = [int(val) for val in f.readline().split(',')]"
   ]
  },
  {
   "cell_type": "markdown",
   "id": "438e6c46",
   "metadata": {},
   "source": [
    "Part 1:"
   ]
  },
  {
   "cell_type": "code",
   "execution_count": 2,
   "id": "09f240ba",
   "metadata": {},
   "outputs": [
    {
     "name": "stdout",
     "output_type": "stream",
     "text": [
      "Position: 342, Cost: 351901\n"
     ]
    }
   ],
   "source": [
    "max_pos = max(data)\n",
    "min_pos = min(data)\n",
    "\n",
    "costs = [[i, sum([abs(val - i) for val in data])] for i in range(min_pos, max_pos)]\n",
    "lowest_cost = sorted(costs, key=lambda x: x[1])[0] \n",
    "\n",
    "print(\"Position: \" + str(lowest_cost[0]) + \", Cost: \" + str(lowest_cost[1]))"
   ]
  },
  {
   "cell_type": "markdown",
   "id": "7c30ad41",
   "metadata": {},
   "source": [
    "Part 2:"
   ]
  },
  {
   "cell_type": "code",
   "execution_count": 3,
   "id": "838404fb",
   "metadata": {},
   "outputs": [
    {
     "name": "stdout",
     "output_type": "stream",
     "text": [
      "Position: 478, Cost: 101079875\n"
     ]
    }
   ],
   "source": [
    "def cumsum(x):\n",
    "    return (x**2+x)//2\n",
    "\n",
    "costs = [[i, sum([cumsum(abs(val - i)) for val in data])] for i in range(min_pos, max_pos)]\n",
    "lowest_cost = sorted(costs, key=lambda x: x[1])[0] \n",
    "\n",
    "print(\"Position: \" + str(lowest_cost[0]) + \", Cost: \" + str(lowest_cost[1]))"
   ]
  }
 ],
 "metadata": {
  "kernelspec": {
   "display_name": "Python 3 (ipykernel)",
   "language": "python",
   "name": "python3"
  },
  "language_info": {
   "codemirror_mode": {
    "name": "ipython",
    "version": 3
   },
   "file_extension": ".py",
   "mimetype": "text/x-python",
   "name": "python",
   "nbconvert_exporter": "python",
   "pygments_lexer": "ipython3",
   "version": "3.9.7"
  }
 },
 "nbformat": 4,
 "nbformat_minor": 5
}
